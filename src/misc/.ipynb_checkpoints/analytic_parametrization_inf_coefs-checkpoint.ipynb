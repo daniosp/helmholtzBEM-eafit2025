{
 "cells": [
  {
   "cell_type": "code",
   "execution_count": 16,
   "id": "eb06e25f",
   "metadata": {},
   "outputs": [
    {
     "data": {
      "text/latex": [
       "$\\displaystyle \\left[\\begin{matrix}x_{j} \\left(\\frac{1}{2} - \\frac{\\xi}{2}\\right) + x_{j1} \\left(\\frac{\\xi}{2} + \\frac{1}{2}\\right)\\\\y_{j} \\left(\\frac{1}{2} - \\frac{\\xi}{2}\\right) + y_{j1} \\left(\\frac{\\xi}{2} + \\frac{1}{2}\\right)\\end{matrix}\\right]$"
      ],
      "text/plain": [
       "Matrix([\n",
       "[x_j*(1/2 - xi/2) + x_j1*(xi/2 + 1/2)],\n",
       "[y_j*(1/2 - xi/2) + y_j1*(xi/2 + 1/2)]])"
      ]
     },
     "execution_count": 16,
     "metadata": {},
     "output_type": "execute_result"
    }
   ],
   "source": [
    "import sympy as sp\n",
    "\n",
    "xi, x_j, y_j, x_j1, y_j1, x_i, y_i = sp.symbols('xi x_j y_j x_j1 y_j1 x_i y_i')\n",
    "\n",
    "\n",
    "x_xi = ((1-xi)/(2))*x_j + ((1+xi)/(2))*x_j1\n",
    "y_xi = ((1-xi)/(2))*y_j + ((1+xi)/(2))*y_j1\n",
    "\n",
    "q_vect = sp.Matrix([[x_xi], \n",
    "                    [y_xi]\n",
    "                    ])\n",
    "q_vect\n"
   ]
  },
  {
   "cell_type": "code",
   "execution_count": 17,
   "id": "3e6efe03",
   "metadata": {},
   "outputs": [
    {
     "data": {
      "text/latex": [
       "$\\displaystyle \\left[\\begin{matrix}x_{i}\\\\y_{i}\\end{matrix}\\right]$"
      ],
      "text/plain": [
       "Matrix([\n",
       "[x_i],\n",
       "[y_i]])"
      ]
     },
     "execution_count": 17,
     "metadata": {},
     "output_type": "execute_result"
    }
   ],
   "source": [
    "p_vect = sp.Matrix([[x_i], \n",
    "                    [y_i]\n",
    "                    ])\n",
    "p_vect"
   ]
  },
  {
   "cell_type": "code",
   "execution_count": 18,
   "id": "e2542fb6",
   "metadata": {},
   "outputs": [
    {
     "data": {
      "text/latex": [
       "$\\displaystyle \\left[\\begin{matrix}- x_{i} + x_{j} \\left(\\frac{1}{2} - \\frac{\\xi}{2}\\right) + x_{j1} \\left(\\frac{\\xi}{2} + \\frac{1}{2}\\right)\\\\- y_{i} + y_{j} \\left(\\frac{1}{2} - \\frac{\\xi}{2}\\right) + y_{j1} \\left(\\frac{\\xi}{2} + \\frac{1}{2}\\right)\\end{matrix}\\right]$"
      ],
      "text/plain": [
       "Matrix([\n",
       "[-x_i + x_j*(1/2 - xi/2) + x_j1*(xi/2 + 1/2)],\n",
       "[-y_i + y_j*(1/2 - xi/2) + y_j1*(xi/2 + 1/2)]])"
      ]
     },
     "execution_count": 18,
     "metadata": {},
     "output_type": "execute_result"
    }
   ],
   "source": [
    "r_vect = q_vect - p_vect\n",
    "r_vect"
   ]
  },
  {
   "cell_type": "code",
   "execution_count": 19,
   "id": "e1e7a423",
   "metadata": {},
   "outputs": [
    {
     "data": {
      "text/latex": [
       "$\\displaystyle \\frac{\\sqrt{4 x_{i}^{2} + 4 x_{i} x_{j} \\xi - 4 x_{i} x_{j} - 4 x_{i} x_{j1} \\xi - 4 x_{i} x_{j1} + x_{j}^{2} \\xi^{2} - 2 x_{j}^{2} \\xi + x_{j}^{2} - 2 x_{j} x_{j1} \\xi^{2} + 2 x_{j} x_{j1} + x_{j1}^{2} \\xi^{2} + 2 x_{j1}^{2} \\xi + x_{j1}^{2} + \\xi^{2} y_{j}^{2} - 2 \\xi^{2} y_{j} y_{j1} + \\xi^{2} y_{j1}^{2} + 4 \\xi y_{i} y_{j} - 4 \\xi y_{i} y_{j1} - 2 \\xi y_{j}^{2} + 2 \\xi y_{j1}^{2} + 4 y_{i}^{2} - 4 y_{i} y_{j} - 4 y_{i} y_{j1} + y_{j}^{2} + 2 y_{j} y_{j1} + y_{j1}^{2}}}{2}$"
      ],
      "text/plain": [
       "sqrt(4*x_i**2 + 4*x_i*x_j*xi - 4*x_i*x_j - 4*x_i*x_j1*xi - 4*x_i*x_j1 + x_j**2*xi**2 - 2*x_j**2*xi + x_j**2 - 2*x_j*x_j1*xi**2 + 2*x_j*x_j1 + x_j1**2*xi**2 + 2*x_j1**2*xi + x_j1**2 + xi**2*y_j**2 - 2*xi**2*y_j*y_j1 + xi**2*y_j1**2 + 4*xi*y_i*y_j - 4*xi*y_i*y_j1 - 2*xi*y_j**2 + 2*xi*y_j1**2 + 4*y_i**2 - 4*y_i*y_j - 4*y_i*y_j1 + y_j**2 + 2*y_j*y_j1 + y_j1**2)/2"
      ]
     },
     "execution_count": 19,
     "metadata": {},
     "output_type": "execute_result"
    }
   ],
   "source": [
    "r_vect_magnitude = sp.sqrt(r_vect[0]**2 + r_vect[1]**2)\n",
    "r_vect_magnitude = r_vect_magnitude.expand().simplify()\n",
    "r_vect_magnitude\n",
    "\n"
   ]
  },
  {
   "cell_type": "code",
   "execution_count": 20,
   "id": "1118e67c",
   "metadata": {},
   "outputs": [
    {
     "data": {
      "text/latex": [
       "$\\displaystyle \\left[\\begin{matrix}- y_{j} + y_{j1}\\\\x_{j} - x_{j1}\\end{matrix}\\right]$"
      ],
      "text/plain": [
       "Matrix([\n",
       "[-y_j + y_j1],\n",
       "[ x_j - x_j1]])"
      ]
     },
     "execution_count": 20,
     "metadata": {},
     "output_type": "execute_result"
    }
   ],
   "source": [
    "n_vect = sp.Matrix([[y_j1-y_j], \n",
    "                    [x_j-x_j1]\n",
    "                    ])\n",
    "n_vect"
   ]
  },
  {
   "cell_type": "code",
   "execution_count": 21,
   "id": "6080227c",
   "metadata": {},
   "outputs": [
    {
     "data": {
      "text/latex": [
       "$\\displaystyle \\sqrt{x_{j}^{2} - 2 x_{j} x_{j1} + x_{j1}^{2} + y_{j}^{2} - 2 y_{j} y_{j1} + y_{j1}^{2}}$"
      ],
      "text/plain": [
       "sqrt(x_j**2 - 2*x_j*x_j1 + x_j1**2 + y_j**2 - 2*y_j*y_j1 + y_j1**2)"
      ]
     },
     "execution_count": 21,
     "metadata": {},
     "output_type": "execute_result"
    }
   ],
   "source": [
    "n_vect_magnitude = sp.sqrt(n_vect[0]**2 + n_vect[1]**2)\n",
    "n_vect_magnitude = n_vect_magnitude.expand().simplify()\n",
    "n_vect_magnitude"
   ]
  },
  {
   "cell_type": "code",
   "execution_count": 22,
   "id": "397f707e",
   "metadata": {},
   "outputs": [
    {
     "data": {
      "text/latex": [
       "$\\displaystyle \\frac{\\sqrt{x_{j}^{2} - 2 x_{j} x_{j1} + x_{j1}^{2} + y_{j}^{2} - 2 y_{j} y_{j1} + y_{j1}^{2}} \\sqrt{4 x_{i}^{2} + 4 x_{i} x_{j} \\xi - 4 x_{i} x_{j} - 4 x_{i} x_{j1} \\xi - 4 x_{i} x_{j1} + x_{j}^{2} \\xi^{2} - 2 x_{j}^{2} \\xi + x_{j}^{2} - 2 x_{j} x_{j1} \\xi^{2} + 2 x_{j} x_{j1} + x_{j1}^{2} \\xi^{2} + 2 x_{j1}^{2} \\xi + x_{j1}^{2} + \\xi^{2} y_{j}^{2} - 2 \\xi^{2} y_{j} y_{j1} + \\xi^{2} y_{j1}^{2} + 4 \\xi y_{i} y_{j} - 4 \\xi y_{i} y_{j1} - 2 \\xi y_{j}^{2} + 2 \\xi y_{j1}^{2} + 4 y_{i}^{2} - 4 y_{i} y_{j} - 4 y_{i} y_{j1} + y_{j}^{2} + 2 y_{j} y_{j1} + y_{j1}^{2}}}{2}$"
      ],
      "text/plain": [
       "sqrt(x_j**2 - 2*x_j*x_j1 + x_j1**2 + y_j**2 - 2*y_j*y_j1 + y_j1**2)*sqrt(4*x_i**2 + 4*x_i*x_j*xi - 4*x_i*x_j - 4*x_i*x_j1*xi - 4*x_i*x_j1 + x_j**2*xi**2 - 2*x_j**2*xi + x_j**2 - 2*x_j*x_j1*xi**2 + 2*x_j*x_j1 + x_j1**2*xi**2 + 2*x_j1**2*xi + x_j1**2 + xi**2*y_j**2 - 2*xi**2*y_j*y_j1 + xi**2*y_j1**2 + 4*xi*y_i*y_j - 4*xi*y_i*y_j1 - 2*xi*y_j**2 + 2*xi*y_j1**2 + 4*y_i**2 - 4*y_i*y_j - 4*y_i*y_j1 + y_j**2 + 2*y_j*y_j1 + y_j1**2)/2"
      ]
     },
     "execution_count": 22,
     "metadata": {},
     "output_type": "execute_result"
    }
   ],
   "source": [
    "denominator = r_vect_magnitude * n_vect_magnitude\n",
    "denominator = denominator.expand()\n",
    "denominator = denominator.simplify()\n",
    "denominator"
   ]
  },
  {
   "cell_type": "code",
   "execution_count": 23,
   "id": "2442ca21",
   "metadata": {},
   "outputs": [
    {
     "data": {
      "text/latex": [
       "$\\displaystyle x_{i} y_{j} - x_{i} y_{j1} - x_{j} y_{i} + x_{j} y_{j1} + x_{j1} y_{i} - x_{j1} y_{j}$"
      ],
      "text/plain": [
       "x_i*y_j - x_i*y_j1 - x_j*y_i + x_j*y_j1 + x_j1*y_i - x_j1*y_j"
      ]
     },
     "execution_count": 23,
     "metadata": {},
     "output_type": "execute_result"
    }
   ],
   "source": [
    "numerator = r_vect.dot(n_vect)\n",
    "numerator = numerator.expand().simplify()\n",
    "numerator"
   ]
  },
  {
   "cell_type": "code",
   "execution_count": 24,
   "id": "e31043b9",
   "metadata": {},
   "outputs": [
    {
     "data": {
      "text/latex": [
       "$\\displaystyle \\frac{2 \\left(x_{i} y_{j} - x_{i} y_{j1} - x_{j} y_{i} + x_{j} y_{j1} + x_{j1} y_{i} - x_{j1} y_{j}\\right)}{\\sqrt{x_{j}^{2} - 2 x_{j} x_{j1} + x_{j1}^{2} + y_{j}^{2} - 2 y_{j} y_{j1} + y_{j1}^{2}} \\sqrt{4 x_{i}^{2} + 4 x_{i} x_{j} \\xi - 4 x_{i} x_{j} - 4 x_{i} x_{j1} \\xi - 4 x_{i} x_{j1} + x_{j}^{2} \\xi^{2} - 2 x_{j}^{2} \\xi + x_{j}^{2} - 2 x_{j} x_{j1} \\xi^{2} + 2 x_{j} x_{j1} + x_{j1}^{2} \\xi^{2} + 2 x_{j1}^{2} \\xi + x_{j1}^{2} + \\xi^{2} y_{j}^{2} - 2 \\xi^{2} y_{j} y_{j1} + \\xi^{2} y_{j1}^{2} + 4 \\xi y_{i} y_{j} - 4 \\xi y_{i} y_{j1} - 2 \\xi y_{j}^{2} + 2 \\xi y_{j1}^{2} + 4 y_{i}^{2} - 4 y_{i} y_{j} - 4 y_{i} y_{j1} + y_{j}^{2} + 2 y_{j} y_{j1} + y_{j1}^{2}}}$"
      ],
      "text/plain": [
       "2*(x_i*y_j - x_i*y_j1 - x_j*y_i + x_j*y_j1 + x_j1*y_i - x_j1*y_j)/(sqrt(x_j**2 - 2*x_j*x_j1 + x_j1**2 + y_j**2 - 2*y_j*y_j1 + y_j1**2)*sqrt(4*x_i**2 + 4*x_i*x_j*xi - 4*x_i*x_j - 4*x_i*x_j1*xi - 4*x_i*x_j1 + x_j**2*xi**2 - 2*x_j**2*xi + x_j**2 - 2*x_j*x_j1*xi**2 + 2*x_j*x_j1 + x_j1**2*xi**2 + 2*x_j1**2*xi + x_j1**2 + xi**2*y_j**2 - 2*xi**2*y_j*y_j1 + xi**2*y_j1**2 + 4*xi*y_i*y_j - 4*xi*y_i*y_j1 - 2*xi*y_j**2 + 2*xi*y_j1**2 + 4*y_i**2 - 4*y_i*y_j - 4*y_i*y_j1 + y_j**2 + 2*y_j*y_j1 + y_j1**2))"
      ]
     },
     "execution_count": 24,
     "metadata": {},
     "output_type": "execute_result"
    }
   ],
   "source": [
    "total = numerator/denominator\n",
    "total = total.expand().simplify()\n",
    "total"
   ]
  }
 ],
 "metadata": {
  "kernelspec": {
   "display_name": "Python 3 (ipykernel)",
   "language": "python",
   "name": "python3"
  },
  "language_info": {
   "codemirror_mode": {
    "name": "ipython",
    "version": 3
   },
   "file_extension": ".py",
   "mimetype": "text/x-python",
   "name": "python",
   "nbconvert_exporter": "python",
   "pygments_lexer": "ipython3",
   "version": "3.12.8"
  }
 },
 "nbformat": 4,
 "nbformat_minor": 5
}
