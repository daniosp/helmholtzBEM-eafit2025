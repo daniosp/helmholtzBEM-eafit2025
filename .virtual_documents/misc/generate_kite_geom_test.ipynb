%matplotlib widget


import matplotlib.pyplot as plt
import numpy as np
import meshio





alpha = 0.65
beta = 1.5

n_points = 200
t = np.linspace(0,2*np.pi,n_points)

x = np.cos(t) + alpha * np.cos(2*t)
y = beta * np.sin(t)


# Plot the surface
plt.close('all')

fig, ax = plt.subplots()
plot = ax.plot(x, y)
ax.axis('equal')

ax.set_aspect('equal', 'box')
plt.title(r"Kite scatterer parametric curve $u_i$")
plt.show()


sizeInner = 0.07

geom_file = open("kite_scatterer.geo", "w", encoding="utf-8")


geom_file.write(" /* \n " +
                ".geo file for kite scatterer, \n"+
                "Introduccion al Metodo de Frontera Universidad EAFIT 2025-1 \n"+
                "by: Daniel Ospina Pajoy, Sebastián Duque Lotero & Mateo Tabares. \n */ "+
                "\n \n \n"+
                "// Inner Scatterer Element Size"+
                f"\n sizeRoI = {sizeInner}; \n \n")

geom_file.write("// Points \n") 

pt_num = 1
for (xp,yp) in zip(x,y):
    if pt_num != len(x):
        geom_file.write(f"Point({pt_num}) = {{ {xp}, {yp}, 0.0, {sizeInner} }}; \n")
    pt_num += 1
geom_file.write("\n \n") 

geom_file.write("// Lines \n") 

for idx in range(1,len(x)):
    if idx != len(x)-1:
        geom_file.write(f"Line({idx}) = {{ {idx}, {idx+1} }}; \n")
    else:
        geom_file.write(f"Line({idx}) = {{ {idx}, 1 }}; \n")
geom_file.write("\n \n") 

geom_file.write("// Surfaces \n"+
                #f"Curve Loop(1) = {{List [ {{ 1: {len(x)-1} }} ] }}; \n"+
                f"Curve Loop(1) = {{ 1: {len(x)-1} }}; \n"+
               "Plane Surface(1) = {1}; \n") 
geom_file.write("\n \n") 

geom_file.write("// Physical groups \n"+
               #f"Physical Curve(1) = {{List [ {{ 1: {len(x)-1} }} ] }}; \n"+
                f"Physical Curve(1) = {{ 1: {len(x)-1} }}; \n"+
               "Physical Surface(2) = {1}; \n") 
geom_file.write("\n \n") 


ndiv = 1
geom_file.write("// Mesh parameters \n"+
               f"ndiv = {ndiv}; \n"+
               #f"Transfinite Curve {{List [ {{ 1: {len(x)-1} }} ] }} = ndiv Using Progression 1; \n"+
               f"Transfinite Curve {{ 1: {len(x)-1} }} = ndiv Using Progression 1; \n"
               "Transfinite Surface {1}; \n") 


    
geom_file.close()




#%% Pre-process
def read_geo_gmsh(fname, dir_groups, neu_groups):
    """Read the geometry from a Gmsh file with physical groups

    Parameters
    ----------
    fname : str
        Path to the mesh file.
    dir_groups : list
        List with the number of the physical groups associated
        with Dirichlet boundary conditions.
    neu_groups : list
        List with the number of the physical groups associated
        with Dirichlet boundary conditions.

    Returns
    -------
    mesh : meshio Mesh object
        Mesh object.
    coords : ndarray, float
        Coordinates for the endpoints of the elements in the
        boundary.
    elems : ndarray, int
        Connectivity for the elements.
    x_m : ndarray, float
        Horizontal component of the midpoint of the elements.
    y_m : ndarray, float
        Vertical component of the midpoint of the elements.
    id_dir : list
        Identifiers for elements with Dirichlet boundary conditions.
    id_neu : list
        Identifiers for elements with Neumann boundary conditions.
    """
    mesh = meshio.read(fname)
    elems_dir = np.vstack([mesh.cells[k].data for k in dir_groups])
    if neu_groups is None:
        elems_neu = np.array([])
        elems = elems_dir.copy()
    else:
        elems_neu = np.vstack([mesh.cells[k].data for k in neu_groups])
        elems = np.vstack((elems_dir, elems_neu))
    bound_nodes = list(set(elems.flatten()))
    coords = mesh.points[bound_nodes, :2]
    x_m, y_m = 0.5*(coords[elems[:, 0]] + coords[elems[:, 1]]).T
    id_dir = range(elems_dir.shape[0])
    id_neu = range(elems_dir.shape[0],
                   elems_dir.shape[0] + elems_neu.shape[0])
    return mesh, coords, elems, x_m, y_m, id_dir, id_neu



fname = "kite_scatterer.msh"
mesh = meshio.read(fname)


len(mesh.cells)


elems = np.vstack([cells.data for cells in mesh.cells])
elems


bound_nodes = list(set(elems.flatten()))
bound_nodes.append(bound_nodes[0])

print(bound_nodes)


coords = mesh.points[bound_nodes, :2]
coords


# Plot the surface
plt.close('all')

fig, ax = plt.subplots()
plot = ax.plot(coords[:,0], coords[:,1])
ax.axis('equal')

ax.set_aspect('equal', 'box')
plt.title(r"1D Mesh from GMSH")
plt.show()


read_geo_gmsh(fname, list(range(0,len(mesh.cells))), None)
