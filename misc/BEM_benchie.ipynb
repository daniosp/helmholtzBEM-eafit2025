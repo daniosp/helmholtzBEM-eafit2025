{
 "cells": [
  {
   "cell_type": "markdown",
   "id": "72e39b73-ab2b-4494-9758-c5e75cdff053",
   "metadata": {},
   "source": [
    "### Let's use a benchmark BEM problem to test if the current functions are working correctly."
   ]
  },
  {
   "cell_type": "code",
   "execution_count": 1,
   "id": "ca70ebca-c134-4723-9c9e-b2d2790445e6",
   "metadata": {},
   "outputs": [],
   "source": [
    "%matplotlib widget"
   ]
  },
  {
   "cell_type": "code",
   "execution_count": 2,
   "id": "63eda6a7-f5d7-4be0-bb2a-e0e5c2bebf7f",
   "metadata": {},
   "outputs": [],
   "source": [
    "import numpy as np\n",
    "from numpy import log,  sin, cos, arctan2, pi, mean, dot\n",
    "from numpy.linalg import norm, solve\n",
    "from scipy.special import roots_legendre,hankel1\n",
    "from scipy.integrate import quad\n",
    "import matplotlib.pyplot as plt\n",
    "import meshio\n",
    "import gmsh\n",
    "import add_funs_test as af"
   ]
  },
  {
   "cell_type": "markdown",
   "id": "8e3b1fbe-ad5c-4d80-bbec-6140c1c2f40b",
   "metadata": {},
   "source": [
    "---"
   ]
  },
  {
   "cell_type": "markdown",
   "id": "8eff33c3-e9b3-4d78-8655-c09fae408ec5",
   "metadata": {},
   "source": [
    "### Original field (Analytic)"
   ]
  },
  {
   "cell_type": "code",
   "execution_count": 3,
   "id": "f85a90b1-8d25-4852-89bb-32af81bac298",
   "metadata": {
    "scrolled": true
   },
   "outputs": [],
   "source": [
    "# Screen width and height\n",
    "upper_grid_size = 5\n",
    "lower_grid_size = -upper_grid_size\n",
    "ngrid_pts = 30\n",
    "\n",
    "grid_vec = np.linspace(lower_grid_size,upper_grid_size,num=ngrid_pts)\n",
    "\n",
    "X,Y = np.meshgrid(grid_vec,grid_vec)"
   ]
  },
  {
   "cell_type": "code",
   "execution_count": 4,
   "id": "1a0981bc-1ac6-4be4-8c40-2328ad4bf06a",
   "metadata": {},
   "outputs": [],
   "source": [
    "k = 1"
   ]
  },
  {
   "cell_type": "code",
   "execution_count": 5,
   "id": "a01e492b-ae6f-43b2-aa62-ed94da269fb3",
   "metadata": {},
   "outputs": [
    {
     "data": {
      "application/vnd.jupyter.widget-view+json": {
       "model_id": "b3771aba197140239f0464633a82d05f",
       "version_major": 2,
       "version_minor": 0
      },
      "image/png": "[encoded data removed]",
      "text/html": [
       "\n",
       "            <div style=\"display: inline-block;\">\n",
       "                <div class=\"jupyter-widgets widget-label\" style=\"text-align: center;\">\n",
       "                    Figure\n",
       "                </div>\n",
       "                <img src='data:image/png;base64,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' width=640.0/>\n",
       "            </div>\n",
       "        "
      ],
      "text/plain": [
       "Canvas(toolbar=Toolbar(toolitems=[('Home', 'Reset original view', 'home', 'home'), ('Back', 'Back to previous …"
      ]
     },
     "metadata": {},
     "output_type": "display_data"
    }
   ],
   "source": [
    "# Define the first field\n",
    "k_ui_1 = k\n",
    "ui_field_original = np.sin(k_ui_1*Y)\n",
    "\n",
    "# Plot the surface\n",
    "plt.close('all')\n",
    "\n",
    "fig, ax = plt.subplots()\n",
    "plot = ax.pcolormesh(X, Y, ui_field_original, edgecolor=\"none\",cmap=\"copper\",vmin=-1, vmax=1)\n",
    "ax.axis('equal')\n",
    "ax.set_aspect('equal', 'box')\n",
    "\n",
    "cbar = fig.colorbar(plot,ax=ax,ticks=[-1,0,1])\n",
    "plt.title(r\"Original field\")\n",
    "plt.show()"
   ]
  },
  {
   "cell_type": "markdown",
   "id": "f17f2db3-71af-41e3-a488-4094ff40bff9",
   "metadata": {},
   "source": [
    "---"
   ]
  },
  {
   "cell_type": "markdown",
   "id": "0fdabec2-bbb4-4a87-8969-95c0490a21e7",
   "metadata": {},
   "source": [
    "### BEM alternative"
   ]
  },
  {
   "cell_type": "code",
   "execution_count": 6,
   "id": "ae34d015-1bf4-4023-b4c0-0331dbcea1b0",
   "metadata": {},
   "outputs": [],
   "source": [
    "# GMSH mesh geometry generation\n",
    "\n",
    "sizeInner = 0.07\n",
    "geom_file = open(\"simple_square_bound.geo\", \"w\", encoding=\"utf-8\")\n",
    "\n",
    "geom_file.write(\" /* \\n \" +\n",
    "                \".geo file for simple square boundary, \\n\"+\n",
    "                \"Introduccion al Metodo de Frontera Universidad EAFIT 2025-1 \\n\"+\n",
    "                \"by: Daniel Ospina Pajoy, Sebastián Duque Lotero & Mateo Tabares. \\n */ \"+\n",
    "                \"\\n \\n \\n\"+\n",
    "                \"// Inner Scatterer Element Size\"+\n",
    "                f\"\\n sizeRoI = {sizeInner}; \\n \\n\")\n",
    "\n",
    "geom_file.write(\"// Points \\n\") \n",
    "geom_file.write(f\"Point(1) = {{ {lower_grid_size}, {lower_grid_size}, 0.0, {sizeInner} }}; \\n\")\n",
    "geom_file.write(f\"Point(2) = {{ {upper_grid_size}, {lower_grid_size}, 0.0, {sizeInner} }}; \\n\")\n",
    "geom_file.write(f\"Point(3) = {{ {upper_grid_size}, {upper_grid_size}, 0.0, {sizeInner} }}; \\n\")\n",
    "geom_file.write(f\"Point(4) = {{ {lower_grid_size}, {upper_grid_size}, 0.0, {sizeInner} }}; \\n\")\n",
    "geom_file.write(\"\\n \\n\") \n",
    "\n",
    "geom_file.write(\"// Lines \\n\") \n",
    "geom_file.write(\"Line(1) = { 1, 2 } ; \\n\")\n",
    "geom_file.write(\"Line(2) = { 2, 3 } ; \\n\")\n",
    "geom_file.write(\"Line(3) = { 3, 4 } ; \\n\")\n",
    "geom_file.write(\"Line(4) = { 4, 1 } ; \\n\")\n",
    "geom_file.write(\"\\n \\n\") \n",
    "\n",
    "geom_file.write(\"// Surfaces \\n\"+\n",
    "                \"Curve Loop(1) = { 1: 4 }; \\n\"+\n",
    "               \"Plane Surface(1) = {1}; \\n\") \n",
    "geom_file.write(\"\\n \\n\") \n",
    "\n",
    "geom_file.write(\"// Physical groups \\n\"+\n",
    "                \"Physical Curve(1) = { 1,2,3,4 }; \\n\"+\n",
    "               \"Physical Surface(2) = {1}; \\n\") \n",
    "geom_file.write(\"\\n \\n\") \n",
    "\n",
    "\n",
    "ndiv = ngrid_pts\n",
    "geom_file.write(\"// Mesh parameters \\n\"+\n",
    "               f\"ndiv = {ndiv}; \\n\"+\n",
    "               \"Transfinite Curve { 1,2,3, 4 } = ndiv Using Progression 1; \\n\"+\n",
    "               \"Transfinite Surface {1}; \\n\") \n",
    "    \n",
    "geom_file.close()\n"
   ]
  },
  {
   "cell_type": "code",
   "execution_count": 7,
   "id": "cde73319-299b-4281-8e40-53cb8701b69f",
   "metadata": {},
   "outputs": [],
   "source": [
    "gmsh.initialize()\n",
    "gmsh.open(\"simple_square_bound.geo\")\n",
    "gmsh.model.mesh.generate(1)  # 1D mesh\n",
    "gmsh.write(\"simple_square_bound.msh\")\n",
    "gmsh.finalize()"
   ]
  },
  {
   "cell_type": "code",
   "execution_count": 8,
   "id": "6ea17a21-78ff-4aca-9131-901d908b2a42",
   "metadata": {},
   "outputs": [
    {
     "name": "stdout",
     "output_type": "stream",
     "text": [
      "\n"
     ]
    }
   ],
   "source": [
    "fname = \"simple_square_bound.msh\"\n",
    "mesh = meshio.read(fname)"
   ]
  },
  {
   "cell_type": "code",
   "execution_count": 20,
   "id": "8bffbc83-1d76-4c3b-8111-d45cec27d47e",
   "metadata": {},
   "outputs": [
    {
     "name": "stdout",
     "output_type": "stream",
     "text": [
      "\n"
     ]
    }
   ],
   "source": [
    "mesh, coords, elems, x_m, y_m, id_dir, id_neu = af.read_geo_gmsh(fname, [0,1,2,3], None)"
   ]
  },
  {
   "cell_type": "code",
   "execution_count": 25,
   "id": "07edbd84-b64a-4d85-8ef9-1959fb2cb7d7",
   "metadata": {},
   "outputs": [
    {
     "data": {
      "application/vnd.jupyter.widget-view+json": {
       "model_id": "4cda25cfa241404ba2e575724d911927",
       "version_major": 2,
       "version_minor": 0
      },
      "image/png": "[encoded data removed]",
      "text/html": [
       "\n",
       "            <div style=\"display: inline-block;\">\n",
       "                <div class=\"jupyter-widgets widget-label\" style=\"text-align: center;\">\n",
       "                    Figure\n",
       "                </div>\n",
       "                <img src='data:image/png;base64,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' width=640.0/>\n",
       "            </div>\n",
       "        "
      ],
      "text/plain": [
       "Canvas(toolbar=Toolbar(toolitems=[('Home', 'Reset original view', 'home', 'home'), ('Back', 'Back to previous …"
      ]
     },
     "metadata": {},
     "output_type": "display_data"
    }
   ],
   "source": [
    "# Plot the surface\n",
    "\n",
    "plt.close('all')\n",
    "\n",
    "fig, ax = plt.subplots()\n",
    "plot = ax.plot(coords[:,0], coords[:,1],\".\")\n",
    "ax.axis('equal')\n",
    "\n",
    "ax.set_aspect('equal', 'box')\n",
    "plt.title(r\"1D Mesh from GMSH\")\n",
    "plt.show()"
   ]
  },
  {
   "cell_type": "code",
   "execution_count": 26,
   "id": "247e8e06-c826-4b99-a5d6-e5c0094ddaa2",
   "metadata": {},
   "outputs": [],
   "source": [
    "Gmat, Hmat = af.assem(coords,elems,k,\"internal\")"
   ]
  },
  {
   "cell_type": "raw",
   "id": "fc9b1bfd-f68c-4273-837b-4c214919f214",
   "metadata": {},
   "source": []
  }
 ],
 "metadata": {
  "kernelspec": {
   "display_name": "bem",
   "language": "python",
   "name": "python3"
  },
  "language_info": {
   "codemirror_mode": {
    "name": "ipython",
    "version": 3
   },
   "file_extension": ".py",
   "mimetype": "text/x-python",
   "name": "python",
   "nbconvert_exporter": "python",
   "pygments_lexer": "ipython3",
   "version": "3.12.8"
  }
 },
 "nbformat": 4,
 "nbformat_minor": 5
}
