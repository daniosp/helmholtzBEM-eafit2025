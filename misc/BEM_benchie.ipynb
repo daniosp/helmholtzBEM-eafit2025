{
 "cells": [
  {
   "cell_type": "markdown",
   "id": "72e39b73-ab2b-4494-9758-c5e75cdff053",
   "metadata": {},
   "source": [
    "### Let's use a benchmark BEM problem to test if the current functions are working correctly."
   ]
  },
  {
   "cell_type": "code",
   "execution_count": 2,
   "id": "ca70ebca-c134-4723-9c9e-b2d2790445e6",
   "metadata": {},
   "outputs": [],
   "source": [
    "%matplotlib widget"
   ]
  },
  {
   "cell_type": "code",
   "execution_count": 3,
   "id": "63eda6a7-f5d7-4be0-bb2a-e0e5c2bebf7f",
   "metadata": {},
   "outputs": [],
   "source": [
    "import numpy as np\n",
    "from numpy import log,  sin, cos, arctan2, pi, mean, dot\n",
    "from numpy.linalg import norm, solve\n",
    "from scipy.special import roots_legendre,hankel1\n",
    "from scipy.integrate import quad\n",
    "import matplotlib.pyplot as plt\n",
    "import meshio\n",
    "import gmsh\n",
    "import add_funs_test as af"
   ]
  },
  {
   "cell_type": "markdown",
   "id": "8e3b1fbe-ad5c-4d80-bbec-6140c1c2f40b",
   "metadata": {},
   "source": [
    "---"
   ]
  },
  {
   "cell_type": "markdown",
   "id": "8eff33c3-e9b3-4d78-8655-c09fae408ec5",
   "metadata": {},
   "source": [
    "### Original field (Analytic)"
   ]
  },
  {
   "cell_type": "code",
   "execution_count": 4,
   "id": "f85a90b1-8d25-4852-89bb-32af81bac298",
   "metadata": {
    "scrolled": true
   },
   "outputs": [],
   "source": [
    "# Screen width and height\n",
    "upper_grid_size = 5\n",
    "lower_grid_size = -upper_grid_size\n",
    "ngrid_pts = 30\n",
    "\n",
    "grid_vec = np.linspace(lower_grid_size,upper_grid_size,num=ngrid_pts)\n",
    "\n",
    "X,Y = np.meshgrid(grid_vec,grid_vec)"
   ]
  },
  {
   "cell_type": "code",
   "execution_count": 5,
   "id": "1a0981bc-1ac6-4be4-8c40-2328ad4bf06a",
   "metadata": {},
   "outputs": [],
   "source": [
    "k = 1"
   ]
  },
  {
   "cell_type": "code",
   "execution_count": 6,
   "id": "a01e492b-ae6f-43b2-aa62-ed94da269fb3",
   "metadata": {},
   "outputs": [
    {
     "data": {
      "application/vnd.jupyter.widget-view+json": {
       "model_id": "7aa699bd1e0444a3a91ac1f0a8d1644a",
       "version_major": 2,
       "version_minor": 0
      },
      "image/png": "[encoded data removed]",
      "text/html": [
       "\n",
       "            <div style=\"display: inline-block;\">\n",
       "                <div class=\"jupyter-widgets widget-label\" style=\"text-align: center;\">\n",
       "                    Figure\n",
       "                </div>\n",
       "                <img src='data:image/png;base64,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' width=640.0/>\n",
       "            </div>\n",
       "        "
      ],
      "text/plain": [
       "Canvas(toolbar=Toolbar(toolitems=[('Home', 'Reset original view', 'home', 'home'), ('Back', 'Back to previous …"
      ]
     },
     "metadata": {},
     "output_type": "display_data"
    }
   ],
   "source": [
    "# Define the first field\n",
    "k_ui_1 = k\n",
    "ui_field_original = np.sin(k_ui_1*Y)\n",
    "\n",
    "# Plot the surface\n",
    "plt.close('all')\n",
    "\n",
    "fig, ax = plt.subplots()\n",
    "plot = ax.pcolormesh(X, Y, ui_field_original, edgecolor=\"none\",cmap=\"copper\",vmin=-1, vmax=1)\n",
    "ax.axis('equal')\n",
    "ax.set_aspect('equal', 'box')\n",
    "\n",
    "cbar = fig.colorbar(plot,ax=ax,ticks=[-1,0,1])\n",
    "plt.title(r\"Original field\")\n",
    "plt.show()"
   ]
  },
  {
   "cell_type": "markdown",
   "id": "f17f2db3-71af-41e3-a488-4094ff40bff9",
   "metadata": {},
   "source": [
    "---"
   ]
  },
  {
   "cell_type": "markdown",
   "id": "0fdabec2-bbb4-4a87-8969-95c0490a21e7",
   "metadata": {},
   "source": [
    "### BEM alternative"
   ]
  },
  {
   "cell_type": "code",
   "execution_count": 7,
   "id": "ae34d015-1bf4-4023-b4c0-0331dbcea1b0",
   "metadata": {},
   "outputs": [],
   "source": [
    "# GMSH mesh geometry generation\n",
    "\n",
    "sizeInner = 0.07\n",
    "geom_file = open(\"simple_square_bound.geo\", \"w\", encoding=\"utf-8\")\n",
    "\n",
    "geom_file.write(\" /* \\n \" +\n",
    "                \".geo file for simple square boundary, \\n\"+\n",
    "                \"Introduccion al Metodo de Frontera Universidad EAFIT 2025-1 \\n\"+\n",
    "                \"by: Daniel Ospina Pajoy, Sebastián Duque Lotero & Mateo Tabares. \\n */ \"+\n",
    "                \"\\n \\n \\n\"+\n",
    "                \"// Inner Scatterer Element Size\"+\n",
    "                f\"\\n sizeRoI = {sizeInner}; \\n \\n\")\n",
    "\n",
    "geom_file.write(\"// Points \\n\") \n",
    "geom_file.write(f\"Point(1) = {{ {lower_grid_size}, {lower_grid_size}, 0.0, {sizeInner} }}; \\n\")\n",
    "geom_file.write(f\"Point(2) = {{ {upper_grid_size}, {lower_grid_size}, 0.0, {sizeInner} }}; \\n\")\n",
    "geom_file.write(f\"Point(3) = {{ {upper_grid_size}, {upper_grid_size}, 0.0, {sizeInner} }}; \\n\")\n",
    "geom_file.write(f\"Point(4) = {{ {lower_grid_size}, {upper_grid_size}, 0.0, {sizeInner} }}; \\n\")\n",
    "geom_file.write(\"\\n \\n\") \n",
    "\n",
    "geom_file.write(\"// Lines \\n\") \n",
    "geom_file.write(\"Line(1) = { 1, 2 } ; \\n\")\n",
    "geom_file.write(\"Line(2) = { 2, 3 } ; \\n\")\n",
    "geom_file.write(\"Line(3) = { 3, 4 } ; \\n\")\n",
    "geom_file.write(\"Line(4) = { 4, 1 } ; \\n\")\n",
    "geom_file.write(\"\\n \\n\") \n",
    "\n",
    "geom_file.write(\"// Surfaces \\n\"+\n",
    "                \"Curve Loop(1) = { 1: 4 }; \\n\"+\n",
    "               \"Plane Surface(1) = {1}; \\n\") \n",
    "geom_file.write(\"\\n \\n\") \n",
    "\n",
    "geom_file.write(\"// Physical groups \\n\"+\n",
    "                \"Physical Curve(1) = { 1,2,3,4 }; \\n\"+\n",
    "               \"Physical Surface(2) = {1}; \\n\") \n",
    "geom_file.write(\"\\n \\n\") \n",
    "\n",
    "\n",
    "ndiv = ngrid_pts\n",
    "geom_file.write(\"// Mesh parameters \\n\"+\n",
    "               f\"ndiv = {ndiv}; \\n\"+\n",
    "               \"Transfinite Curve { 1,2,3, 4 } = ndiv Using Progression 1; \\n\"+\n",
    "               \"Transfinite Surface {1}; \\n\") \n",
    "    \n",
    "geom_file.close()\n"
   ]
  },
  {
   "cell_type": "code",
   "execution_count": 8,
   "id": "cde73319-299b-4281-8e40-53cb8701b69f",
   "metadata": {},
   "outputs": [],
   "source": [
    "gmsh.initialize()\n",
    "gmsh.open(\"simple_square_bound.geo\")\n",
    "gmsh.model.mesh.generate(1)  # 1D mesh\n",
    "gmsh.write(\"simple_square_bound.msh\")\n",
    "gmsh.finalize()"
   ]
  },
  {
   "cell_type": "code",
   "execution_count": 9,
   "id": "6ea17a21-78ff-4aca-9131-901d908b2a42",
   "metadata": {},
   "outputs": [
    {
     "name": "stdout",
     "output_type": "stream",
     "text": [
      "\n"
     ]
    }
   ],
   "source": [
    "fname = \"simple_square_bound.msh\"\n",
    "mesh = meshio.read(fname)"
   ]
  },
  {
   "cell_type": "code",
   "execution_count": 10,
   "id": "8bffbc83-1d76-4c3b-8111-d45cec27d47e",
   "metadata": {},
   "outputs": [
    {
     "name": "stdout",
     "output_type": "stream",
     "text": [
      "\n"
     ]
    }
   ],
   "source": [
    "mesh, coords, elems, x_m, y_m, id_dir, id_neu = af.read_geo_gmsh(fname, [0,1,2,3], None)"
   ]
  },
  {
   "cell_type": "code",
   "execution_count": 11,
   "id": "6719e224",
   "metadata": {},
   "outputs": [
    {
     "data": {
      "text/plain": [
       "array([[-5.        , -5.        ],\n",
       "       [ 5.        , -5.        ],\n",
       "       [ 5.        ,  5.        ],\n",
       "       [-5.        ,  5.        ],\n",
       "       [-4.65517241, -5.        ],\n",
       "       [-4.31034483, -5.        ],\n",
       "       [-3.96551724, -5.        ],\n",
       "       [-3.62068966, -5.        ],\n",
       "       [-3.27586207, -5.        ],\n",
       "       [-2.93103448, -5.        ],\n",
       "       [-2.5862069 , -5.        ],\n",
       "       [-2.24137931, -5.        ],\n",
       "       [-1.89655172, -5.        ],\n",
       "       [-1.55172414, -5.        ],\n",
       "       [-1.20689655, -5.        ],\n",
       "       [-0.86206897, -5.        ],\n",
       "       [-0.51724138, -5.        ],\n",
       "       [-0.17241379, -5.        ],\n",
       "       [ 0.17241379, -5.        ],\n",
       "       [ 0.51724138, -5.        ],\n",
       "       [ 0.86206897, -5.        ],\n",
       "       [ 1.20689655, -5.        ],\n",
       "       [ 1.55172414, -5.        ],\n",
       "       [ 1.89655172, -5.        ],\n",
       "       [ 2.24137931, -5.        ],\n",
       "       [ 2.5862069 , -5.        ],\n",
       "       [ 2.93103448, -5.        ],\n",
       "       [ 3.27586207, -5.        ],\n",
       "       [ 3.62068966, -5.        ],\n",
       "       [ 3.96551724, -5.        ],\n",
       "       [ 4.31034483, -5.        ],\n",
       "       [ 4.65517241, -5.        ],\n",
       "       [ 5.        , -4.65517241],\n",
       "       [ 5.        , -4.31034483],\n",
       "       [ 5.        , -3.96551724],\n",
       "       [ 5.        , -3.62068966],\n",
       "       [ 5.        , -3.27586207],\n",
       "       [ 5.        , -2.93103448],\n",
       "       [ 5.        , -2.5862069 ],\n",
       "       [ 5.        , -2.24137931],\n",
       "       [ 5.        , -1.89655172],\n",
       "       [ 5.        , -1.55172414],\n",
       "       [ 5.        , -1.20689655],\n",
       "       [ 5.        , -0.86206897],\n",
       "       [ 5.        , -0.51724138],\n",
       "       [ 5.        , -0.17241379],\n",
       "       [ 5.        ,  0.17241379],\n",
       "       [ 5.        ,  0.51724138],\n",
       "       [ 5.        ,  0.86206897],\n",
       "       [ 5.        ,  1.20689655],\n",
       "       [ 5.        ,  1.55172414],\n",
       "       [ 5.        ,  1.89655172],\n",
       "       [ 5.        ,  2.24137931],\n",
       "       [ 5.        ,  2.5862069 ],\n",
       "       [ 5.        ,  2.93103448],\n",
       "       [ 5.        ,  3.27586207],\n",
       "       [ 5.        ,  3.62068966],\n",
       "       [ 5.        ,  3.96551724],\n",
       "       [ 5.        ,  4.31034483],\n",
       "       [ 5.        ,  4.65517241],\n",
       "       [ 4.65517241,  5.        ],\n",
       "       [ 4.31034483,  5.        ],\n",
       "       [ 3.96551724,  5.        ],\n",
       "       [ 3.62068966,  5.        ],\n",
       "       [ 3.27586207,  5.        ],\n",
       "       [ 2.93103448,  5.        ],\n",
       "       [ 2.5862069 ,  5.        ],\n",
       "       [ 2.24137931,  5.        ],\n",
       "       [ 1.89655172,  5.        ],\n",
       "       [ 1.55172414,  5.        ],\n",
       "       [ 1.20689655,  5.        ],\n",
       "       [ 0.86206897,  5.        ],\n",
       "       [ 0.51724138,  5.        ],\n",
       "       [ 0.17241379,  5.        ],\n",
       "       [-0.17241379,  5.        ],\n",
       "       [-0.51724138,  5.        ],\n",
       "       [-0.86206897,  5.        ],\n",
       "       [-1.20689655,  5.        ],\n",
       "       [-1.55172414,  5.        ],\n",
       "       [-1.89655172,  5.        ],\n",
       "       [-2.24137931,  5.        ],\n",
       "       [-2.5862069 ,  5.        ],\n",
       "       [-2.93103448,  5.        ],\n",
       "       [-3.27586207,  5.        ],\n",
       "       [-3.62068966,  5.        ],\n",
       "       [-3.96551724,  5.        ],\n",
       "       [-4.31034483,  5.        ],\n",
       "       [-4.65517241,  5.        ],\n",
       "       [-5.        ,  4.65517241],\n",
       "       [-5.        ,  4.31034483],\n",
       "       [-5.        ,  3.96551724],\n",
       "       [-5.        ,  3.62068966],\n",
       "       [-5.        ,  3.27586207],\n",
       "       [-5.        ,  2.93103448],\n",
       "       [-5.        ,  2.5862069 ],\n",
       "       [-5.        ,  2.24137931],\n",
       "       [-5.        ,  1.89655172],\n",
       "       [-5.        ,  1.55172414],\n",
       "       [-5.        ,  1.20689655],\n",
       "       [-5.        ,  0.86206897],\n",
       "       [-5.        ,  0.51724138],\n",
       "       [-5.        ,  0.17241379],\n",
       "       [-5.        , -0.17241379],\n",
       "       [-5.        , -0.51724138],\n",
       "       [-5.        , -0.86206897],\n",
       "       [-5.        , -1.20689655],\n",
       "       [-5.        , -1.55172414],\n",
       "       [-5.        , -1.89655172],\n",
       "       [-5.        , -2.24137931],\n",
       "       [-5.        , -2.5862069 ],\n",
       "       [-5.        , -2.93103448],\n",
       "       [-5.        , -3.27586207],\n",
       "       [-5.        , -3.62068966],\n",
       "       [-5.        , -3.96551724],\n",
       "       [-5.        , -4.31034483],\n",
       "       [-5.        , -4.65517241]])"
      ]
     },
     "execution_count": 11,
     "metadata": {},
     "output_type": "execute_result"
    }
   ],
   "source": [
    "coords"
   ]
  },
  {
   "cell_type": "code",
   "execution_count": 19,
   "id": "f1cbaee4",
   "metadata": {},
   "outputs": [
    {
     "data": {
      "text/plain": [
       "array([0, 4])"
      ]
     },
     "execution_count": 19,
     "metadata": {},
     "output_type": "execute_result"
    }
   ],
   "source": [
    "elem = elems[0]\n",
    "elem"
   ]
  },
  {
   "cell_type": "code",
   "execution_count": 18,
   "id": "1c131fb1",
   "metadata": {},
   "outputs": [
    {
     "data": {
      "text/plain": [
       "array([[-5.        , -5.        ],\n",
       "       [-4.65517241, -5.        ]])"
      ]
     },
     "execution_count": 18,
     "metadata": {},
     "output_type": "execute_result"
    }
   ],
   "source": [
    "coords[elem]"
   ]
  },
  {
   "cell_type": "code",
   "execution_count": 23,
   "id": "ecc4d4fa",
   "metadata": {},
   "outputs": [
    {
     "data": {
      "text/plain": [
       "array([-4.82758621, -5.        ])"
      ]
     },
     "execution_count": 23,
     "metadata": {},
     "output_type": "execute_result"
    }
   ],
   "source": [
    "mean(coords[elem], axis=0)"
   ]
  },
  {
   "cell_type": "code",
   "execution_count": 27,
   "id": "bb0f4bc1",
   "metadata": {},
   "outputs": [
    {
     "data": {
      "text/plain": [
       "(116, 2)"
      ]
     },
     "execution_count": 27,
     "metadata": {},
     "output_type": "execute_result"
    }
   ],
   "source": [
    "elems.shape\n"
   ]
  },
  {
   "cell_type": "code",
   "execution_count": 12,
   "id": "07edbd84-b64a-4d85-8ef9-1959fb2cb7d7",
   "metadata": {},
   "outputs": [
    {
     "data": {
      "application/vnd.jupyter.widget-view+json": {
       "model_id": "4a0c9b863acd4de08c53f64eea8e6050",
       "version_major": 2,
       "version_minor": 0
      },
      "image/png": "[encoded data removed]",
      "text/html": [
       "\n",
       "            <div style=\"display: inline-block;\">\n",
       "                <div class=\"jupyter-widgets widget-label\" style=\"text-align: center;\">\n",
       "                    Figure\n",
       "                </div>\n",
       "                <img src='data:image/png;base64,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' width=640.0/>\n",
       "            </div>\n",
       "        "
      ],
      "text/plain": [
       "Canvas(toolbar=Toolbar(toolitems=[('Home', 'Reset original view', 'home', 'home'), ('Back', 'Back to previous …"
      ]
     },
     "metadata": {},
     "output_type": "display_data"
    }
   ],
   "source": [
    "# Plot the surface\n",
    "\n",
    "plt.close('all')\n",
    "\n",
    "fig, ax = plt.subplots()\n",
    "plot = ax.plot(coords[:,0], coords[:,1],\".\")\n",
    "ax.axis('equal')\n",
    "\n",
    "ax.set_aspect('equal', 'box')\n",
    "plt.title(r\"1D Mesh from GMSH\")\n",
    "plt.show()"
   ]
  },
  {
   "cell_type": "code",
   "execution_count": 13,
   "id": "247e8e06-c826-4b99-a5d6-e5c0094ddaa2",
   "metadata": {},
   "outputs": [],
   "source": [
    "Gmat, Hmat = af.assem(coords,elems,k,\"internal\")"
   ]
  },
  {
   "cell_type": "raw",
   "id": "fc9b1bfd-f68c-4273-837b-4c214919f214",
   "metadata": {
    "vscode": {
     "languageId": "raw"
    }
   },
   "source": []
  }
 ],
 "metadata": {
  "kernelspec": {
   "display_name": "bem",
   "language": "python",
   "name": "python3"
  },
  "language_info": {
   "codemirror_mode": {
    "name": "ipython",
    "version": 3
   },
   "file_extension": ".py",
   "mimetype": "text/x-python",
   "name": "python",
   "nbconvert_exporter": "python",
   "pygments_lexer": "ipython3",
   "version": "3.12.8"
  }
 },
 "nbformat": 4,
 "nbformat_minor": 5
}
